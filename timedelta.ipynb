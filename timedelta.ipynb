{
 "cells": [
  {
   "cell_type": "code",
   "execution_count": 1,
   "id": "2d457e74-cfbb-4915-884d-e4a387052894",
   "metadata": {},
   "outputs": [],
   "source": [
    "import numpy as np\n",
    "import pandas as pd"
   ]
  },
  {
   "cell_type": "code",
   "execution_count": 6,
   "id": "f9729878-2dee-4b8d-b097-22c40f704904",
   "metadata": {},
   "outputs": [],
   "source": [
    "start = pd.Timestamp(\"Sat Jul 2 08:06:20 CST 2022\")\n",
    "now = pd.Timestamp(\"Mon Jul  4 08:48:01 CST 2022\")\n",
    "d = now - start"
   ]
  },
  {
   "cell_type": "code",
   "execution_count": 7,
   "id": "8091bc44-804d-4c8c-b018-ff6de424593e",
   "metadata": {},
   "outputs": [
    {
     "data": {
      "text/plain": [
       "Timedelta('2 days 00:41:41')"
      ]
     },
     "execution_count": 7,
     "metadata": {},
     "output_type": "execute_result"
    }
   ],
   "source": [
    "d"
   ]
  },
  {
   "cell_type": "code",
   "execution_count": 8,
   "id": "8816286a-e263-468f-89ed-a75b23a79025",
   "metadata": {},
   "outputs": [
    {
     "data": {
      "text/plain": [
       "pandas._libs.tslibs.timedeltas.Timedelta"
      ]
     },
     "execution_count": 8,
     "metadata": {},
     "output_type": "execute_result"
    }
   ],
   "source": [
    "type(d)"
   ]
  },
  {
   "cell_type": "code",
   "execution_count": 9,
   "id": "f1a55ca7-88d2-41c1-ab01-9745517d5bb2",
   "metadata": {},
   "outputs": [
    {
     "data": {
      "text/plain": [
       "48.694722222222225"
      ]
     },
     "execution_count": 9,
     "metadata": {},
     "output_type": "execute_result"
    }
   ],
   "source": [
    "d / pd.Timedelta('1 hour')"
   ]
  },
  {
   "cell_type": "code",
   "execution_count": null,
   "id": "499b3c4a-e9bf-4e20-9ba0-2a95bb09b854",
   "metadata": {},
   "outputs": [],
   "source": []
  }
 ],
 "metadata": {
  "kernelspec": {
   "display_name": "Python 3 (ipykernel)",
   "language": "python",
   "name": "python3"
  },
  "language_info": {
   "codemirror_mode": {
    "name": "ipython",
    "version": 3
   },
   "file_extension": ".py",
   "mimetype": "text/x-python",
   "name": "python",
   "nbconvert_exporter": "python",
   "pygments_lexer": "ipython3",
   "version": "3.9.13"
  }
 },
 "nbformat": 4,
 "nbformat_minor": 5
}
